{
 "cells": [
  {
   "cell_type": "code",
   "execution_count": 12,
   "id": "ac9e0b9d",
   "metadata": {},
   "outputs": [],
   "source": [
    "import pandas as pd"
   ]
  },
  {
   "cell_type": "code",
   "execution_count": 13,
   "id": "144b3c5b",
   "metadata": {},
   "outputs": [],
   "source": [
    "# Read data from file\n",
    "df = pd.read_csv(\"data/adult.data.csv\")"
   ]
  },
  {
   "cell_type": "code",
   "execution_count": 14,
   "id": "17e695f2",
   "metadata": {},
   "outputs": [],
   "source": [
    "# How many of each race are represented in this dataset? This should be a Pandas series with race names as the index labels.\n",
    "race_count = df[\"race\"].value_counts()\n",
    "\n",
    "# What is the average age of men?\n",
    "average_age_men = round(df.loc[df[\"sex\"] == \"Male\"][\"age\"].mean(), 1)\n",
    "\n",
    "# What is the percentage of people who have a Bachelor's degree?\n",
    "percentage_bachelors = round(df[df[\"education\"] == \"Bachelors\"][\"age\"].count() / df[\"age\"].count() * 100, 1)\n",
    "\n",
    "# makes a df of all the people who have a higher education\n",
    "df_higher_E = df[(df[\"education\"] == \"Bachelors\") | (df[\"education\"] == \"Masters\") | (df[\"education\"] == \"Doctorate\")]\n",
    "\n",
    "#precentage of people with a higher education\n",
    "higher_education = round(df_higher_E[\"age\"].count() / df[\"age\"].count() * 100, 1)\n",
    "\n",
    "# precentage of people without a higher education\n",
    "df_lower_E = df[(df[\"education\"] != \"Bachelors\") & (df[\"education\"] != \"Masters\") & (df[\"education\"] != \"Doctorate\")]\n",
    "\n",
    "lower_education = df_lower_E[\"age\"].count() / df[\"age\"].count()\n",
    "\n",
    "# percentage of higher education people with a salary >50K\n",
    "higher_education_rich = round(df_higher_E[df_higher_E[\"salary\"] == \">50K\"][\"age\"].count() / df_higher_E[\"age\"].count() * 100, 1)\n",
    "\n",
    "# percentage of lower education people with a salary >50K\n",
    "lower_education_rich = round(df_lower_E[df_lower_E[\"salary\"] == \">50K\"][\"age\"].count() / df_lower_E[\"age\"].count() * 100, 1)"
   ]
  },
  {
   "cell_type": "code",
   "execution_count": 15,
   "id": "a897bfce",
   "metadata": {},
   "outputs": [],
   "source": [
    "# What is the minimum number of hours a person works per week (hours-per-week feature)?\n",
    "min_work_hours = df[\"hours-per-week\"].min()\n",
    "\n",
    "# What percentage of the people who work the minimum number of hours per week have a salary of >50K?\n",
    "num_min_workers = df[df[\"hours-per-week\"] == 1][\"age\"].count()\n",
    "\n",
    "df_min_hours_per_week = df[df[\"hours-per-week\"] == 1]\n",
    "rich_percentage = round(len(df_min_hours_per_week[df_min_hours_per_week[\"salary\"] == \">50K\"]) / len(df_min_hours_per_week) * 100, 1)\n",
    "\n",
    "# What country has the highest percentage of people that earn >50K?\n",
    "highest_earning_country = (df[df[\"salary\"] == \">50K\"][\"native-country\"].value_counts() / df[\"native-country\"].value_counts() * 100).idxmax()\n",
    "\n",
    "highest_earning_country_percentage = round((df[df[\"salary\"] == \">50K\"][\"native-country\"].value_counts() / df[\"native-country\"].value_counts() * 100).max(), 1)\n",
    "\n",
    "# Identify the most popular occupation for those who earn >50K in India.\n",
    "top_IN_occupation = df[(df[\"salary\"] == \">50K\") & (df[\"native-country\"] == \"India\")][\"occupation\"].value_counts().idxmax()"
   ]
  },
  {
   "cell_type": "code",
   "execution_count": 16,
   "id": "451550ca",
   "metadata": {},
   "outputs": [
    {
     "name": "stdout",
     "output_type": "stream",
     "text": [
      "Number of each race:\n",
      " White                 27816\n",
      "Black                  3124\n",
      "Asian-Pac-Islander     1039\n",
      "Amer-Indian-Eskimo      311\n",
      "Other                   271\n",
      "Name: race, dtype: int64\n",
      "Average age of men: 39.4\n",
      "Percentage with Bachelors degrees: 16.4%\n",
      "Percentage with higher education that earn >50K: 46.5%\n",
      "Percentage without higher education that earn >50K: 17.4%\n",
      "Min work time: 1 hours/week\n",
      "Percentage of rich among those who work fewest hours: 10.0%\n",
      "Country with highest percentage of rich: Iran\n",
      "Highest percentage of rich people in country: 41.9%\n",
      "Top occupations in India: Prof-specialty\n"
     ]
    }
   ],
   "source": [
    "print(\"Number of each race:\\n\", race_count) \n",
    "print(\"Average age of men:\", average_age_men)\n",
    "print(f\"Percentage with Bachelors degrees: {percentage_bachelors}%\")\n",
    "print(f\"Percentage with higher education that earn >50K: {higher_education_rich}%\")\n",
    "print(f\"Percentage without higher education that earn >50K: {lower_education_rich}%\")\n",
    "print(f\"Min work time: {min_work_hours} hours/week\")\n",
    "print(f\"Percentage of rich among those who work fewest hours: {rich_percentage}%\")\n",
    "print(\"Country with highest percentage of rich:\", highest_earning_country)\n",
    "print(f\"Highest percentage of rich people in country: {highest_earning_country_percentage}%\")\n",
    "print(\"Top occupations in India:\", top_IN_occupation)"
   ]
  },
  {
   "cell_type": "code",
   "execution_count": null,
   "id": "e8d1aa2c",
   "metadata": {},
   "outputs": [],
   "source": []
  }
 ],
 "metadata": {
  "kernelspec": {
   "display_name": "Python 3 (ipykernel)",
   "language": "python",
   "name": "python3"
  },
  "language_info": {
   "codemirror_mode": {
    "name": "ipython",
    "version": 3
   },
   "file_extension": ".py",
   "mimetype": "text/x-python",
   "name": "python",
   "nbconvert_exporter": "python",
   "pygments_lexer": "ipython3",
   "version": "3.10.9"
  }
 },
 "nbformat": 4,
 "nbformat_minor": 5
}
